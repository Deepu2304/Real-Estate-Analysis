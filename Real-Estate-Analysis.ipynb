{
 "cells": [
  {
   "cell_type": "code",
   "execution_count": null,
   "id": "d06f9a33",
   "metadata": {},
   "outputs": [],
   "source": [
    "import numpy as np\n",
    "import pandas as pd \n",
    "import matplotlib.pyplot as plt\n",
    "import seaborn as sns\n",
    "sns.set_theme(style=\"whitegrid\")\n",
    "import os\n",
    "import calendar\n",
    "import logging"
   ]
  },
  {
   "cell_type": "code",
   "execution_count": null,
   "id": "d8787e0e",
   "metadata": {},
   "outputs": [],
   "source": [
    "amenities_path=\"/Users/jaideepsai/Desktop/DATA-ANALYTICS/Data Source/extracted-data/RealEstate/amenities.csv\"\n",
    "amenities_data=pd.read_csv(amenities_path, delimiter=';')"
   ]
  },
  {
   "attachments": {},
   "cell_type": "markdown",
   "id": "eb583f06",
   "metadata": {},
   "source": []
  },
  {
   "cell_type": "code",
   "execution_count": null,
   "id": "5865cbda",
   "metadata": {
    "scrolled": true
   },
   "outputs": [],
   "source": [
    "amenities_data.head()"
   ]
  },
  {
   "cell_type": "code",
   "execution_count": null,
   "id": "d7a5e476",
   "metadata": {},
   "outputs": [],
   "source": [
    "amenities_data.info()"
   ]
  },
  {
   "cell_type": "code",
   "execution_count": null,
   "id": "78af6654",
   "metadata": {},
   "outputs": [],
   "source": [
    "statistics=amenities_data.describe()\n",
    "print(\"statistics\")\n",
    "print(statistics)"
   ]
  },
  {
   "cell_type": "code",
   "execution_count": null,
   "id": "c3c23773",
   "metadata": {
    "scrolled": false
   },
   "outputs": [],
   "source": [
    "hot_tub_distrubution=amenities_data['hot_tub'].value_counts()\n",
    "pool_distrubution=amenities_data['pool'].value_counts()\n",
    "plt.figure(figsize=(12,5))\n",
    "plt.subplot(1,2,1)\n",
    "sns.barplot(x=hot_tub_distrubution.index, y=hot_tub_distrubution.values, palette='Reds_d')\n",
    "plt.title('Distrubution of hot tubs')\n",
    "plt.xlabel('Hot Tubs')\n",
    "plt.ylabel('count')\n",
    "plt.xticks([1,0],['Present','Absent'])\n",
    "\n",
    "plt.subplot(1,2,2)\n",
    "sns.barplot(x=pool_distrubution.index, y=pool_distrubution.values, palette='Oranges_d')\n",
    "plt.title('Distrubution of hot tubs')\n",
    "plt.xlabel('Pools')\n",
    "plt.ylabel('count')\n",
    "plt.xticks([1,0],['Present','Absent'])\n",
    "plt.show()"
   ]
  },
  {
   "cell_type": "code",
   "execution_count": null,
   "id": "32d54605",
   "metadata": {},
   "outputs": [],
   "source": [
    "amenities_data['year'] = amenities_data['month'].str[:4]\n",
    "amenities_data['quarter'] = pd.to_datetime(amenities_data['month']).dt.to_period('Q')\n",
    "quarterly_amenities = amenities_data.groupby(['year', 'quarter'])[['hot_tub', 'pool']].sum().reset_index()\n",
    "plt.figure(figsize=(14, 6))\n",
    "plt.subplot(1, 2, 1)\n",
    "sns.barplot(x='quarter', y='hot_tub', hue='year', data=quarterly_amenities, palette='Reds')\n",
    "plt.title('Quarterly Trend of Hot Tub Presence')\n",
    "plt.xlabel('Quarter')\n",
    "plt.ylabel('Total Hot Tubs')\n",
    "plt.xticks(rotation=45)\n",
    "\n",
    "\n",
    "plt.subplot(1, 2, 2)\n",
    "sns.barplot(x='quarter', y='pool', hue='year', data=quarterly_amenities, palette='Blues')\n",
    "plt.title('Quarterly Trend of Pool Presence')\n",
    "plt.xlabel('Quarter')\n",
    "plt.ylabel('Total Pools')\n",
    "plt.xticks(rotation=45)"
   ]
  },
  {
   "attachments": {},
   "cell_type": "markdown",
   "id": "3e92ba84",
   "metadata": {},
   "source": [
    "# EDA GEO_LOCATION"
   ]
  },
  {
   "cell_type": "code",
   "execution_count": null,
   "id": "1bb1ff51",
   "metadata": {},
   "outputs": [],
   "source": [
    "geolocation_path=\"/Users/jaideepsai/Desktop/DATA-ANALYTICS/Data Source/extracted-data/RealEstate/geolocation.csv\"\n",
    "geolocation_data=pd.read_csv(geolocation_path, delimiter=';')"
   ]
  },
  {
   "cell_type": "code",
   "execution_count": null,
   "id": "a673451f",
   "metadata": {},
   "outputs": [],
   "source": [
    "geolocation_data.head()"
   ]
  },
  {
   "cell_type": "code",
   "execution_count": null,
   "id": "bc18563f",
   "metadata": {},
   "outputs": [],
   "source": [
    "geolocation_data.info()"
   ]
  },
  {
   "cell_type": "code",
   "execution_count": null,
   "id": "9b49175c",
   "metadata": {},
   "outputs": [],
   "source": [
    "geolocation_data.isnull().sum()"
   ]
  },
  {
   "cell_type": "code",
   "execution_count": null,
   "id": "0d7aec5d",
   "metadata": {},
   "outputs": [],
   "source": [
    "geolocation_data['street_name'].fillna(\"Street name is not declared\", inplace=True)\n",
    "geolocation_data.head()"
   ]
  },
  {
   "cell_type": "code",
   "execution_count": null,
   "id": "080e8a6e",
   "metadata": {},
   "outputs": [],
   "source": [
    "geolocation_data.info()"
   ]
  },
  {
   "cell_type": "code",
   "execution_count": null,
   "id": "efa26ef9",
   "metadata": {},
   "outputs": [],
   "source": [
    "geolocation_data.latitude.value_counts()"
   ]
  },
  {
   "cell_type": "code",
   "execution_count": null,
   "id": "b9c3c0f1",
   "metadata": {},
   "outputs": [],
   "source": [
    "geolocation_data['latitude'] = geolocation_data['latitude'].str.replace(',', '.')\n",
    "geolocation_data['latitude'] = pd.to_numeric(geolocation_data['latitude'], errors='coerce')\n",
    "geolocation_data['longitude'] = geolocation_data['longitude'].str.replace(',', '.')\n",
    "geolocation_data['longitude'] = pd.to_numeric(geolocation_data['longitude'], errors='coerce')"
   ]
  },
  {
   "cell_type": "code",
   "execution_count": null,
   "id": "33b2c600",
   "metadata": {},
   "outputs": [],
   "source": [
    "geolocation_data['latitude']"
   ]
  },
  {
   "cell_type": "code",
   "execution_count": null,
   "id": "6493dce0",
   "metadata": {},
   "outputs": [],
   "source": [
    "geolocation_data['longitude']"
   ]
  },
  {
   "cell_type": "code",
   "execution_count": null,
   "id": "80a21148",
   "metadata": {},
   "outputs": [],
   "source": [
    "plt.figure(figsize=(12, 6))\n",
    "sns.countplot(x='month', data=geolocation_data, order = geolocation_data['month'].value_counts().index)\n",
    "plt.xticks(rotation=45)\n",
    "plt.title('Distribution of Data by Months')\n",
    "plt.xlabel('MONTH')\n",
    "plt.ylabel('COUNT')\n",
    "plt.show()"
   ]
  },
  {
   "cell_type": "code",
   "execution_count": null,
   "id": "f50827b1",
   "metadata": {},
   "outputs": [],
   "source": [
    "plt.figure(figsize=(10, 6))\n",
    "sns.scatterplot(x='longitude', y='latitude', data=geolocation_data, color='black')\n",
    "plt.title('Geographical Distribution of Data Points')\n",
    "plt.xlabel('Longitude')\n",
    "plt.ylabel('Latitude')\n",
    "plt.show()\n"
   ]
  },
  {
   "cell_type": "code",
   "execution_count": null,
   "id": "85970a65",
   "metadata": {
    "scrolled": true
   },
   "outputs": [],
   "source": [
    "filtered_streets = geolocation_data[geolocation_data['street_name'] != \"Street name is not declared\"]\n",
    "filtered_street_name_counts = filtered_streets['street_name'].value_counts()\n",
    "most_common_streets = filtered_street_name_counts.head(5)\n",
    "print(\"Most Common Streets \\n\", most_common_streets)"
   ]
  },
  {
   "cell_type": "code",
   "execution_count": null,
   "id": "2e0c744a",
   "metadata": {},
   "outputs": [],
   "source": [
    "least_common_streets = filtered_street_name_counts.tail(5)\n",
    "print(\"Least Common Streets \\n\", least_common_streets)\n"
   ]
  },
  {
   "cell_type": "code",
   "execution_count": null,
   "id": "e2df67af",
   "metadata": {},
   "outputs": [],
   "source": [
    "# Plotting the top 5 most common streets\n",
    "plt.figure(figsize=(10, 6))\n",
    "most_common_streets.plot(kind='bar', color='blue')\n",
    "plt.title('Top 5 Most Common Streets')\n",
    "plt.xlabel('Street Name')\n",
    "plt.ylabel('Frequency')\n",
    "plt.xticks(rotation=45)\n",
    "plt.show()"
   ]
  },
  {
   "cell_type": "code",
   "execution_count": null,
   "id": "c5995929",
   "metadata": {},
   "outputs": [],
   "source": [
    "#Plotting the top 5 most common streets\n",
    "plt.figure(figsize=(10, 6))\n",
    "least_common_streets.plot(kind='bar', color='green')\n",
    "plt.title('Top 5 leas Common Streets')\n",
    "plt.xlabel('Street Name')\n",
    "plt.ylabel('Frequency')\n",
    "plt.xticks(rotation=45)\n",
    "plt.show()"
   ]
  },
  {
   "attachments": {},
   "cell_type": "markdown",
   "id": "bf40d762",
   "metadata": {},
   "source": [
    "# EDA MARKET ANALYSIS 2019"
   ]
  },
  {
   "cell_type": "code",
   "execution_count": null,
   "id": "178255a4",
   "metadata": {
    "scrolled": true
   },
   "outputs": [],
   "source": [
    "market_analysis2019_path = \"/Users/jaideepsai/Desktop/DATA-ANALYTICS/Data Source/extracted-data/RealEstate/market_analysis_2019.csv\"\n",
    "market_analysis2019_data = pd.read_csv(market_analysis2019_path, delimiter=';')\n",
    "market_analysis2019_data.head()"
   ]
  },
  {
   "cell_type": "code",
   "execution_count": null,
   "id": "91f61047",
   "metadata": {
    "scrolled": false
   },
   "outputs": [],
   "source": [
    "market_analysis2019_data.info()"
   ]
  },
  {
   "cell_type": "code",
   "execution_count": null,
   "id": "36aa5915",
   "metadata": {},
   "outputs": [],
   "source": [
    "# Define the columns to process\n",
    "columns = ['revenue', 'length stay', 'occupancy', 'nightly rate', 'lead time']\n",
    "\n",
    "# Iterate over the columns and apply the operations\n",
    "for column in columns:\n",
    "    # Replace commas with an empty string\n",
    "    market_analysis2019_data[column] = market_analysis2019_data[column].str.replace(',', '.')\n",
    "    # Convert the column to numeric data type\n",
    "    market_analysis2019_data[column] = pd.to_numeric(market_analysis2019_data[column], errors='coerce')"
   ]
  },
  {
   "cell_type": "code",
   "execution_count": null,
   "id": "1ecc8fcf",
   "metadata": {},
   "outputs": [],
   "source": [
    "print(market_analysis2019_data.dtypes)"
   ]
  },
  {
   "cell_type": "code",
   "execution_count": null,
   "id": "dfa6da05",
   "metadata": {
    "scrolled": false
   },
   "outputs": [],
   "source": [
    "market_analysis2019_data.isnull().sum()"
   ]
  },
  {
   "cell_type": "code",
   "execution_count": null,
   "id": "56dedb81",
   "metadata": {
    "scrolled": false
   },
   "outputs": [],
   "source": [
    "market_statistics = market_analysis2019_data.describe()\n",
    "market_statistics"
   ]
  },
  {
   "cell_type": "code",
   "execution_count": null,
   "id": "42bfda0f",
   "metadata": {
    "scrolled": false
   },
   "outputs": [],
   "source": [
    "market_analysis2019_data[market_analysis2019_data['revenue'].isnull()]"
   ]
  },
  {
   "cell_type": "code",
   "execution_count": null,
   "id": "2d6a9768",
   "metadata": {
    "scrolled": true
   },
   "outputs": [],
   "source": [
    "print(market_analysis2019_data.dtypes)\n"
   ]
  },
  {
   "cell_type": "code",
   "execution_count": null,
   "id": "809d1c3d",
   "metadata": {},
   "outputs": [],
   "source": [
    "print(market_analysis2019_data['nightly rate'].apply(type).value_counts())\n",
    "print(market_analysis2019_data['length stay'].apply(type).value_counts())\n"
   ]
  },
  {
   "cell_type": "code",
   "execution_count": null,
   "id": "9c4de3cd",
   "metadata": {
    "scrolled": false
   },
   "outputs": [],
   "source": [
    "market_analysis2019_data.isnull().sum()"
   ]
  },
  {
   "cell_type": "code",
   "execution_count": null,
   "id": "360655f3",
   "metadata": {},
   "outputs": [],
   "source": [
    "market_analysis2019_data['revenue'] = pd.to_numeric(market_analysis2019_data['revenue'], errors='coerce')\n",
    "market_analysis2019_data['nightly rate'] = pd.to_numeric(market_analysis2019_data['nightly rate'], errors='coerce')\n",
    "market_analysis2019_data['lead time'] = pd.to_numeric(market_analysis2019_data['lead time'], errors='coerce')\n",
    "market_analysis2019_data['length stay'] = pd.to_numeric(market_analysis2019_data['length stay'], errors='coerce')\n",
    "\n",
    "mean_revenue = market_analysis2019_data['revenue'].mean()\n",
    "mean_nightly_rate = market_analysis2019_data['nightly rate'].mean()\n",
    "mean_lead_time = market_analysis2019_data['lead time'].mean()\n",
    "mean_length_stay = market_analysis2019_data['length stay'].mean()\n",
    "\n",
    "print(\"Mean Revenue:\", mean_revenue)\n",
    "print(\"Mean Nightly Rate:\", mean_nightly_rate)\n",
    "print(\"Mean Lead Time:\", mean_lead_time)\n",
    "print(\"Mean Length of Stay:\", mean_length_stay)\n"
   ]
  },
  {
   "cell_type": "code",
   "execution_count": null,
   "id": "6f652c77",
   "metadata": {
    "scrolled": false
   },
   "outputs": [],
   "source": [
    "plt.figure(figsize=(12, 6))\n",
    "sns.countplot(x='month', data=market_analysis2019_data, order = market_analysis2019_data['month'].value_counts().index)\n",
    "plt.xticks(rotation=45)\n",
    "plt.title('Distribution of Data by Months')\n",
    "plt.xlabel('MONTH')\n",
    "plt.ylabel('COUNT')\n",
    "plt.show()"
   ]
  },
  {
   "cell_type": "code",
   "execution_count": null,
   "id": "7e357b2e",
   "metadata": {
    "scrolled": false
   },
   "outputs": [],
   "source": [
    "plt.figure(figsize=(12, 6))\n",
    "sns.barplot(x='month', y='revenue', data=market_analysis2019_data, palette='pastel')\n",
    "plt.xticks(rotation=45)\n",
    "plt.title('Average Revenue per Month')\n",
    "plt.xlabel('Month')\n",
    "plt.ylabel('Revenue')\n",
    "plt.show()"
   ]
  },
  {
   "cell_type": "code",
   "execution_count": null,
   "id": "b5670e01",
   "metadata": {},
   "outputs": [],
   "source": [
    "plt.figure(figsize=(12, 6))\n",
    "sns.barplot(x='month', y='occupancy', data=market_analysis2019_data, palette='pastel')\n",
    "plt.xticks(rotation=45)\n",
    "plt.title('Average Occupancy per Month')\n",
    "plt.xlabel('Month')\n",
    "plt.ylabel('Occupancy')\n",
    "plt.show()"
   ]
  },
  {
   "cell_type": "code",
   "execution_count": null,
   "id": "844a3ed1",
   "metadata": {},
   "outputs": [],
   "source": [
    "market_analysis2019_data['month'] = pd.to_datetime(market_analysis2019_data['month'], format='%Y-%m')\n",
    "numerical_columns = ['revenue', 'occupancy', 'nightly rate', 'lead time', 'length stay']\n",
    "monthly_trends_numerical = market_analysis2019_data.groupby(market_analysis2019_data['month'].dt.to_period('M'))[numerical_columns].mean()\n",
    "plt.figure(figsize=(15, 6))\n",
    "\n",
    "# Plot for monthly basis of revenue\n",
    "plt.subplot(1, 2, 1)\n",
    "monthly_trends_numerical['revenue'].plot(kind='line', marker='o', color='orange')\n",
    "plt.title('Monthly basis of Revenue')\n",
    "plt.xlabel('Month')\n",
    "plt.ylabel('Average Revenue')\n",
    "\n",
    "\n",
    "# Plot for monthly basis of occupancy\n",
    "plt.subplot(1, 2, 2)\n",
    "monthly_trends_numerical['occupancy'].plot(kind='line', marker='o', color='green')\n",
    "plt.title('Monthly basis of Occupancy')\n",
    "plt.xlabel('Month')\n",
    "plt.ylabel('Average Occupancy Rate')\n",
    "\n",
    "\n",
    "plt.tight_layout()\n",
    "plt.show()"
   ]
  },
  {
   "cell_type": "code",
   "execution_count": null,
   "id": "45a18e11",
   "metadata": {},
   "outputs": [],
   "source": [
    "plt.figure(figsize=(12, 6))\n",
    "plt.scatter(market_analysis2019_data['nightly rate'], market_analysis2019_data['length stay'],color='black')\n",
    "plt.title('Scatter Plot of Nightly Rate vs Length of Stay')\n",
    "plt.xlabel('Nightly Rate')\n",
    "plt.ylabel('Length of Stay')\n",
    "plt.grid(True)\n",
    "plt.show()\n",
    "\n",
    "plt.figure(figsize=(12, 6))\n",
    "sns.scatterplot(x='occupancy', y='revenue', data=market_analysis2019_data,color='black')\n",
    "plt.title('Scatter Plot of Revenue vs. Occupancy')\n",
    "plt.xlabel('Occupancy Rate')\n",
    "plt.ylabel('Revenue')\n",
    "plt.show()\n",
    "\n",
    "# Scatter plot for Revenue vs. Nightly Rate\n",
    "plt.figure(figsize=(12, 6))\n",
    "sns.scatterplot(x='nightly rate', y='revenue', data=market_analysis2019_data,color='black')\n",
    "plt.title('Scatter Plot of Revenue vs. Nightly Rate')\n",
    "plt.xlabel('Nightly Rate')\n",
    "plt.ylabel('Revenue')\n",
    "plt.show()"
   ]
  },
  {
   "cell_type": "code",
   "execution_count": null,
   "id": "106acbbc",
   "metadata": {},
   "outputs": [],
   "source": [
    "plt.figure(figsize=(12, 6))\n",
    "sns.barplot(x='city', y='revenue', data=market_analysis2019_data,color='Teal')\n",
    "plt.xticks(rotation=45)\n",
    "plt.title('Revenue by City')\n",
    "plt.xlabel('City')\n",
    "plt.ylabel('Revenue')\n",
    "plt.show()"
   ]
  },
  {
   "cell_type": "code",
   "execution_count": null,
   "id": "3d06a24f",
   "metadata": {},
   "outputs": [],
   "source": [
    "plt.figure(figsize=(12, 6))\n",
    "sns.barplot(x='city', y='occupancy', data=market_analysis2019_data,color='Turquoise')\n",
    "plt.xticks(rotation=45)\n",
    "plt.title('Occupancy by City')\n",
    "plt.xlabel('City')\n",
    "plt.ylabel('Occupancy')\n",
    "plt.show()"
   ]
  },
  {
   "cell_type": "code",
   "execution_count": null,
   "id": "42775627",
   "metadata": {
    "scrolled": false
   },
   "outputs": [],
   "source": [
    "plt.figure(figsize=(12, 6))\n",
    "sns.barplot(x='zipcode', y='occupancy', data=market_analysis2019_data,color='pink')\n",
    "plt.xticks(rotation=45)\n",
    "plt.title('Occupancy by zipcode')\n",
    "plt.xlabel('Zipcode')\n",
    "plt.ylabel('Occupancy')\n",
    "plt.show()"
   ]
  },
  {
   "cell_type": "code",
   "execution_count": null,
   "id": "5281eb35",
   "metadata": {},
   "outputs": [],
   "source": [
    "plt.figure(figsize=(12, 6))\n",
    "sns.barplot(x='zipcode', y='revenue', data=market_analysis2019_data,color='purple')\n",
    "plt.xticks(rotation=45)\n",
    "plt.title('Revenue by Zipcode')\n",
    "plt.xlabel('Zipcode')\n",
    "plt.ylabel('Revenue')\n",
    "plt.show()"
   ]
  },
  {
   "attachments": {},
   "cell_type": "markdown",
   "id": "e86d4a6c",
   "metadata": {},
   "source": [
    "# MARKET ANALYSIS "
   ]
  },
  {
   "cell_type": "code",
   "execution_count": null,
   "id": "87a7009d",
   "metadata": {},
   "outputs": [],
   "source": [
    "market_analysis_path = \"/Users/jaideepsai/Desktop/DATA-ANALYTICS/Data Source/extracted-data/RealEstate/market_analysis.csv\"\n",
    "market_analysis_data =pd.read_csv(market_analysis_path, delimiter=';',decimal =',')\n",
    "market_analysis_data.head()"
   ]
  },
  {
   "cell_type": "code",
   "execution_count": null,
   "id": "af609e8c",
   "metadata": {},
   "outputs": [],
   "source": [
    "market_analysis_data.info()"
   ]
  },
  {
   "cell_type": "code",
   "execution_count": null,
   "id": "a62d2491",
   "metadata": {},
   "outputs": [],
   "source": [
    "market_analysis_data.isnull().sum()"
   ]
  },
  {
   "cell_type": "code",
   "execution_count": null,
   "id": "6f025090",
   "metadata": {
    "scrolled": true
   },
   "outputs": [],
   "source": [
    "numerical_summary = market_analysis_data.describe()\n",
    "\n",
    "numerical_summary"
   ]
  },
  {
   "cell_type": "code",
   "execution_count": null,
   "id": "48832300",
   "metadata": {},
   "outputs": [],
   "source": [
    "# Calculate the mean of specific columns\n",
    "mean_values = market_analysis_data[['revenue','nightly rate', 'lead time', 'length stay']].mean()\n",
    "\n",
    "# Fill missing values in specific columns with their respective means\n",
    "market_analysis_data['nightly rate'] = market_analysis_data['nightly rate'].fillna(mean_values['nightly rate'])\n",
    "market_analysis_data['lead time'] = market_analysis_data['lead time'].fillna(mean_values['lead time'])\n",
    "market_analysis_data['length stay'] = market_analysis_data['length stay'].fillna(mean_values['length stay'])\n",
    "market_analysis_data['revenue'] = market_analysis_data['revenue'].fillna(mean_values['revenue'])"
   ]
  },
  {
   "cell_type": "code",
   "execution_count": null,
   "id": "302d24ff",
   "metadata": {},
   "outputs": [],
   "source": [
    "market_analysis_data.isnull().sum()"
   ]
  },
  {
   "cell_type": "code",
   "execution_count": null,
   "id": "3ef69eec",
   "metadata": {},
   "outputs": [],
   "source": [
    "plt.figure(figsize=(12, 6))\n",
    "sns.countplot(x='month', data=market_analysis_data, order = market_analysis_data['month'].value_counts().index)\n",
    "plt.xticks(rotation=45)\n",
    "plt.title('Distribution of Data by Months')\n",
    "plt.xlabel('MONTH')\n",
    "plt.ylabel('COUNT')\n",
    "plt.show()"
   ]
  },
  {
   "cell_type": "code",
   "execution_count": null,
   "id": "3674a12a",
   "metadata": {},
   "outputs": [],
   "source": [
    "plt.figure(figsize=(12, 6))\n",
    "sns.barplot(x='month', y='revenue', data=market_analysis_data, palette='pastel')\n",
    "plt.xticks(rotation=45)\n",
    "plt.title('Average Revenue per Month')\n",
    "plt.xlabel('Month')\n",
    "plt.ylabel('Revenue')\n",
    "plt.show()"
   ]
  },
  {
   "cell_type": "code",
   "execution_count": null,
   "id": "5d782f0b",
   "metadata": {},
   "outputs": [],
   "source": [
    "plt.figure(figsize=(12, 6))\n",
    "sns.barplot(x='month', y='occupancy', data=market_analysis_data, palette='pastel')\n",
    "plt.xticks(rotation=45)\n",
    "plt.title('Average Occupancy per Month')\n",
    "plt.xlabel('Month')\n",
    "plt.ylabel('Occupancy')\n",
    "plt.show()"
   ]
  },
  {
   "cell_type": "code",
   "execution_count": null,
   "id": "9a7fd058",
   "metadata": {},
   "outputs": [],
   "source": [
    "market_analysis_data['month'] = pd.to_datetime(market_analysis_data['month'], format='%Y-%m')\n",
    "numerical_columns = ['revenue', 'occupancy', 'nightly rate', 'lead time', 'length stay']\n",
    "monthly_trends_numerical = market_analysis_data.groupby(market_analysis_data['month'].dt.to_period('M'))[numerical_columns].mean()\n",
    "plt.figure(figsize=(15, 6))\n",
    "\n",
    "# Plot for monthly basis of revenue\n",
    "plt.subplot(1, 2, 1)\n",
    "monthly_trends_numerical['revenue'].plot(kind='line', marker='o', color='orange')\n",
    "plt.title('Monthly basis of Revenue')\n",
    "plt.xlabel('Month')\n",
    "plt.ylabel('Average Revenue')\n",
    "\n",
    "\n",
    "# Plot for monthly basis of occupancy\n",
    "plt.subplot(1, 2, 2)\n",
    "monthly_trends_numerical['occupancy'].plot(kind='line', marker='o', color='green')\n",
    "plt.title('Monthly basis of Occupancy')\n",
    "plt.xlabel('Month')\n",
    "plt.ylabel('Average Occupancy Rate')\n",
    "\n",
    "\n",
    "plt.tight_layout()\n",
    "plt.show()"
   ]
  },
  {
   "cell_type": "code",
   "execution_count": null,
   "id": "b9fd459b",
   "metadata": {},
   "outputs": [],
   "source": [
    "plt.figure(figsize=(12, 6))\n",
    "sns.barplot(x='city', y='revenue', data=market_analysis2019_data,color='Teal')\n",
    "plt.xticks(rotation=45)\n",
    "plt.title('Revenue by City')\n",
    "plt.xlabel('City')\n",
    "plt.ylabel('Revenue')\n",
    "plt.show()\n",
    "\n",
    "plt.figure(figsize=(12, 6))\n",
    "sns.barplot(x='city', y='occupancy', data=market_analysis2019_data,color='Turquoise')\n",
    "plt.xticks(rotation=45)\n",
    "plt.title('Occupancy by City')\n",
    "plt.xlabel('City')\n",
    "plt.ylabel('Occupancy')\n",
    "plt.show()"
   ]
  },
  {
   "cell_type": "code",
   "execution_count": null,
   "id": "761eaef2",
   "metadata": {},
   "outputs": [],
   "source": [
    "plt.figure(figsize=(12, 6))\n",
    "sns.barplot(x='zipcode', y='occupancy', data=market_analysis2019_data,color='pink')\n",
    "plt.xticks(rotation=45)\n",
    "plt.title('Occupancy by zipcode')\n",
    "plt.xlabel('Zipcode')\n",
    "plt.ylabel('Occupancy')\n",
    "plt.show()\n",
    "\n",
    "plt.figure(figsize=(12, 6))\n",
    "sns.barplot(x='zipcode', y='revenue', data=market_analysis2019_data,color='purple')\n",
    "plt.xticks(rotation=45)\n",
    "plt.title('Revenue by Zipcode')\n",
    "plt.xlabel('Zipcode')\n",
    "plt.ylabel('Revenue')\n",
    "plt.show()"
   ]
  },
  {
   "cell_type": "code",
   "execution_count": null,
   "id": "6d127642",
   "metadata": {},
   "outputs": [],
   "source": [
    "plt.figure(figsize=(12, 6))\n",
    "plt.scatter(market_analysis2019_data['nightly rate'], market_analysis2019_data['length stay'],color='black')\n",
    "plt.title('Scatter Plot of Nightly Rate vs Length of Stay')\n",
    "plt.xlabel('Nightly Rate')\n",
    "plt.ylabel('Length of Stay')\n",
    "plt.grid(True)\n",
    "plt.show()\n",
    "\n",
    "plt.figure(figsize=(12, 6))\n",
    "sns.scatterplot(x='occupancy', y='revenue', data=market_analysis_data,color='black')\n",
    "plt.title('Scatter Plot of Revenue vs. Occupancy')\n",
    "plt.xlabel('Occupancy Rate')\n",
    "plt.ylabel('Revenue')\n",
    "plt.show()\n",
    "\n",
    "# Scatter plot for Revenue vs. Nightly Rate\n",
    "plt.figure(figsize=(12, 6))\n",
    "sns.scatterplot(x='nightly rate', y='revenue', data=market_analysis_data,color='black')\n",
    "plt.title('Scatter Plot of Revenue vs. Nightly Rate')\n",
    "plt.xlabel('Nightly Rate')\n",
    "plt.ylabel('Revenue')\n",
    "plt.show()"
   ]
  },
  {
   "cell_type": "code",
   "execution_count": null,
   "id": "0d321d06",
   "metadata": {},
   "outputs": [],
   "source": []
  }
 ],
 "metadata": {
  "kernelspec": {
   "display_name": "Python 3 (ipykernel)",
   "language": "python",
   "name": "python3"
  },
  "language_info": {
   "codemirror_mode": {
    "name": "ipython",
    "version": 3
   },
   "file_extension": ".py",
   "mimetype": "text/x-python",
   "name": "python",
   "nbconvert_exporter": "python",
   "pygments_lexer": "ipython3",
   "version": "3.11.5"
  }
 },
 "nbformat": 4,
 "nbformat_minor": 5
}
