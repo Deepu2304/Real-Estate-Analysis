{
 "cells": [
  {
   "cell_type": "markdown",
   "id": "6ba0ea62",
   "metadata": {},
   "source": [
    "# SALES ANALYSIS"
   ]
  },
  {
   "cell_type": "code",
   "execution_count": null,
   "id": "138c3cde",
   "metadata": {},
   "outputs": [],
   "source": [
    "import numpy as np\n",
    "import pandas as pd \n",
    "import matplotlib.pyplot as plt\n",
    "import seaborn as sns\n",
    "sns.set_theme(style=\"whitegrid\")\n",
    "import os\n",
    "import calendar"
   ]
  },
  {
   "cell_type": "code",
   "execution_count": null,
   "id": "5948c3b9",
   "metadata": {},
   "outputs": [],
   "source": [
    "import os\n",
    "import pandas as pd\n",
    "\n",
    "\n",
    "def combine_csv_files(folder_path):\n",
    "    # Initialize an empty list to store DataFrames\n",
    "    dfs = []\n",
    "\n",
    "    # Iterate over each file in the folder\n",
    "    for filename in os.listdir(folder_path):\n",
    "        if filename.endswith(\".csv\"):\n",
    "            file_path = os.path.join(folder_path, filename)\n",
    "            try:\n",
    "                # Read the CSV file into a DataFrame\n",
    "                df = pd.read_csv(file_path, engine='python')\n",
    "\n",
    "                # Append the DataFrame to the list\n",
    "                dfs.append(df)\n",
    "            except Exception as e:\n",
    "                print(f\"Error reading file {file_path}: {e}\")\n",
    "\n",
    "    if not dfs:\n",
    "        print(\"No valid CSV files found.\")\n",
    "        return\n",
    "\n",
    "    # Concatenate all DataFrames into a single DataFrame\n",
    "    combined_df = pd.concat(dfs, ignore_index=True)\n",
    "\n",
    "    # Write the combined DataFrame to a new CSV file\n",
    "    combined_df.to_csv(\"combined_output.csv\", index=False)\n",
    "\n",
    "    print(\"Combined CSV file saved successfully.\")\n",
    "\n",
    "\n",
    "# Specify the folder path containing the CSV files\n",
    "folder_path = \"/Users/jaideepsai/Desktop/DATA-ANALYTICS/Data Source/extracted-data/RealEstate/sales_properties\"\n",
    "\n",
    "# Combine CSV files\n",
    "combine_csv_files(folder_path)\n"
   ]
  },
  {
   "cell_type": "code",
   "execution_count": null,
   "id": "ace573a5",
   "metadata": {},
   "outputs": [],
   "source": [
    "sales_path = \"combined_output.csv\"\n",
    "sales_data = pd.read_csv(sales_path, delimiter=';')"
   ]
  },
  {
   "cell_type": "code",
   "execution_count": null,
   "id": "66d6f4e2",
   "metadata": {
    "scrolled": false
   },
   "outputs": [],
   "source": [
    "sales_data.head()"
   ]
  },
  {
   "cell_type": "code",
   "execution_count": null,
   "id": "66f43544",
   "metadata": {},
   "outputs": [],
   "source": [
    "sales_data.shape"
   ]
  },
  {
   "cell_type": "code",
   "execution_count": null,
   "id": "dbc44108",
   "metadata": {},
   "outputs": [],
   "source": [
    "sales_data.info()"
   ]
  },
  {
   "cell_type": "code",
   "execution_count": null,
   "id": "cbee72e9",
   "metadata": {
    "scrolled": false
   },
   "outputs": [],
   "source": [
    "sales_data.isnull().sum()"
   ]
  },
  {
   "cell_type": "code",
   "execution_count": null,
   "id": "98d10aaa",
   "metadata": {},
   "outputs": [],
   "source": [
    "print(sales_data.columns)"
   ]
  },
  {
   "cell_type": "code",
   "execution_count": null,
   "id": "42dbd561",
   "metadata": {},
   "outputs": [],
   "source": [
    "sales_data = sales_data.drop(['Days On Zillow', 'Country', 'sgapt', 'Lot Size', 'isZillowOwned'], axis=1)"
   ]
  },
  {
   "cell_type": "code",
   "execution_count": null,
   "id": "d572eda6",
   "metadata": {},
   "outputs": [],
   "source": [
    "sales_data.isnull().sum()"
   ]
  },
  {
   "cell_type": "code",
   "execution_count": null,
   "id": "2706084b",
   "metadata": {},
   "outputs": [],
   "source": [
    "mean_values = sales_data[['Zestimate', 'Rent Zestimate']].mean()\n",
    "sales_data.loc[:, 'Zestimate'] = sales_data['Zestimate'].fillna(mean_values['Zestimate'])\n",
    "sales_data.loc[:, 'Rent Zestimate'] = sales_data['Rent Zestimate'].fillna(mean_values['Rent Zestimate'])\n",
    "sales_data['Broker Name'].fillna(\"unknown\", inplace=True)"
   ]
  },
  {
   "cell_type": "code",
   "execution_count": null,
   "id": "82bd65aa",
   "metadata": {},
   "outputs": [],
   "source": [
    "sales_data.isnull().sum()"
   ]
  },
  {
   "cell_type": "code",
   "execution_count": null,
   "id": "2844ce2c",
   "metadata": {},
   "outputs": [],
   "source": [
    "avg_by_zip = sales_data.groupby('Zip')['Price'].mean()\n",
    "\n",
    "# Plotting the average property price by postal code\n",
    "plt.figure(figsize=(10, 6))\n",
    "avg_by_zip.plot(kind='bar', color='teal')\n",
    "plt.title('Average Property Price by Zip Code')\n",
    "plt.xlabel('Zip Code')\n",
    "plt.ylabel('Average Price')\n",
    "plt.xticks(rotation=45)  # Rotate x-axis labels for better readability # Add grid lines on the y-axis\n",
    "plt.tight_layout()\n",
    "plt.show()\n"
   ]
  },
  {
   "cell_type": "code",
   "execution_count": null,
   "id": "27f2ce69",
   "metadata": {
    "scrolled": false
   },
   "outputs": [],
   "source": [
    "amenties = ['Bedrooms', 'Bathrooms', 'Living Area', 'Home Type']\n",
    "plt.figure(figsize=(12, 10))\n",
    "for i, amenties in enumerate(amenties, 1):\n",
    "    plt.subplot(3, 2, i)\n",
    "    if sales_data[amenties].dtype == 'object':\n",
    "        sns.countplot(x=amenties, data=sales_data)\n",
    "        plt.title(f'Distribution of {amenties}')\n",
    "        plt.xlabel(amenties)\n",
    "        plt.ylabel('Count')\n",
    "        \n",
    "    else:  # For numerical variables\n",
    "        sns.histplot(x=amenties, data=sales_data, kde=True)\n",
    "        plt.title(f'Distribution of {amenties}')\n",
    "        plt.xlabel(amenties)\n",
    "        plt.ylabel('Frequency')\n",
    "\n",
    "plt.tight_layout()\n",
    "plt.show()"
   ]
  },
  {
   "cell_type": "code",
   "execution_count": null,
   "id": "71da5ba3",
   "metadata": {},
   "outputs": [],
   "source": [
    "plt.figure(figsize=(10, 6))\n",
    "sns.countplot(x='Zip', hue='statusText', data=sales_data, palette='Set3')\n",
    "plt.title('Property Status by Postal Code')\n",
    "plt.xlabel('Postal Code')\n",
    "plt.ylabel('Count')\n",
    "plt.xticks(rotation=45)  \n",
    "plt.legend(title='Status')\n",
    "plt.grid(axis='y') \n",
    "plt.tight_layout()\n",
    "plt.show()"
   ]
  },
  {
   "cell_type": "markdown",
   "id": "a5445b1a",
   "metadata": {},
   "source": [
    "# SALES ANALYSIS WITH POOL"
   ]
  },
  {
   "cell_type": "code",
   "execution_count": null,
   "id": "b627360b",
   "metadata": {},
   "outputs": [],
   "source": [
    "import numpy as np\n",
    "import pandas as pd \n",
    "import matplotlib.pyplot as plt\n",
    "import seaborn as sns\n",
    "sns.set_theme(style=\"whitegrid\")\n",
    "import os\n",
    "import calendar"
   ]
  },
  {
   "cell_type": "code",
   "execution_count": null,
   "id": "a3940ed2",
   "metadata": {},
   "outputs": [],
   "source": [
    "import os\n",
    "import pandas as pd\n",
    "\n",
    "\n",
    "def combine_csv_files(folder_path):\n",
    "    # Initialize an empty list to store DataFrames\n",
    "    dfs = []\n",
    "\n",
    "    # Iterate over each file in the folder\n",
    "    for filename in os.listdir(folder_path):\n",
    "        if filename.endswith(\".csv\"):\n",
    "            file_path = os.path.join(folder_path, filename)\n",
    "            try:\n",
    "                # Read the CSV file into a DataFrame\n",
    "                df = pd.read_csv(file_path, engine='python')\n",
    "\n",
    "                # Append the DataFrame to the list\n",
    "                dfs.append(df)\n",
    "            except Exception as e:\n",
    "                print(f\"Error reading file {file_path}: {e}\")\n",
    "\n",
    "    if not dfs:\n",
    "        print(\"No valid CSV files found.\")\n",
    "        return\n",
    "\n",
    "    # Concatenate all DataFrames into a single DataFrame\n",
    "    combined_df = pd.concat(dfs, ignore_index=True)\n",
    "\n",
    "    # Write the combined DataFrame to a new CSV file\n",
    "    combined_df.to_csv(\"properties_with_pool.csv\", index=False)\n",
    "\n",
    "    print(\"Combined CSV file saved successfully.\")\n",
    "\n",
    "\n",
    "# Specify the folder path containing the CSV files\n",
    "folder_path = \"/Users/jaideepsai/Desktop/DATA-ANALYTICS/Data Source/extracted-data/RealEstate/sales_properties_pools\"\n",
    "\n",
    "# Combine CSV files\n",
    "combine_csv_files(folder_path)\n"
   ]
  },
  {
   "cell_type": "code",
   "execution_count": null,
   "id": "dcb08e82",
   "metadata": {},
   "outputs": [],
   "source": [
    "sales_pools_path = \"properties_with_pool.csv\"\n",
    "sales_pools_data = pd.read_csv(sales_pools_path, delimiter=';')"
   ]
  },
  {
   "cell_type": "code",
   "execution_count": null,
   "id": "f2d7158f",
   "metadata": {},
   "outputs": [],
   "source": [
    "sales_pools_data.head()"
   ]
  },
  {
   "cell_type": "code",
   "execution_count": null,
   "id": "6837a911",
   "metadata": {},
   "outputs": [],
   "source": [
    "sales_pools_data['pool']=1"
   ]
  },
  {
   "cell_type": "code",
   "execution_count": null,
   "id": "7294435f",
   "metadata": {
    "scrolled": true
   },
   "outputs": [],
   "source": [
    "sales_pools_data.head()"
   ]
  },
  {
   "cell_type": "code",
   "execution_count": null,
   "id": "3f95e0d2",
   "metadata": {},
   "outputs": [],
   "source": [
    "all_zips = sales_pools_data['Zip'].unique()\n",
    "pool_properties = sales_pools_data[sales_pools_data['pool'] == 1]\n",
    "plt.figure(figsize=(10, 6))\n",
    "sns.countplot(x='Zip', data=sales_pools_data, order=all_zips, palette='Reds')\n",
    "plt.title('Number of Properties with a Pool by Zip Code')\n",
    "plt.xlabel('Zip Code')\n",
    "plt.ylabel('Count')\n",
    "plt.xticks(rotation=45)  # Rotate x-axis labels for better readability\n",
    "plt.grid(axis='y')  # Add grid lines on the y-axis\n",
    "plt.tight_layout()\n",
    "plt.show()"
   ]
  },
  {
   "cell_type": "code",
   "execution_count": null,
   "id": "6b0dda67",
   "metadata": {},
   "outputs": [],
   "source": []
  }
 ],
 "metadata": {
  "kernelspec": {
   "display_name": "Python 3 (ipykernel)",
   "language": "python",
   "name": "python3"
  },
  "language_info": {
   "codemirror_mode": {
    "name": "ipython",
    "version": 3
   },
   "file_extension": ".py",
   "mimetype": "text/x-python",
   "name": "python",
   "nbconvert_exporter": "python",
   "pygments_lexer": "ipython3",
   "version": "3.11.5"
  }
 },
 "nbformat": 4,
 "nbformat_minor": 5
}
